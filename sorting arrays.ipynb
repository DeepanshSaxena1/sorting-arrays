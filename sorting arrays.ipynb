{
 "cells": [
  {
   "cell_type": "code",
   "execution_count": null,
   "id": "9bc55917",
   "metadata": {},
   "outputs": [],
   "source": [
    "Given an array of N integers, sort the elements in ascending order based on the number of times they occur in the array. If two elements occur equal number of times, place the numerically smaller value ahead of the other\n",
    "\n",
    "Input:\n",
    "\n",
    "11\n",
    "\n",
    "2\n",
    "\n",
    "12\n",
    "\n",
    "2\n",
    "\n",
    "3\n",
    "3\n",
    "\n",
    "3\n",
    "\n",
    "12\n",
    "\n",
    "Output:\n",
    "\n",
    "11\n",
    "\n",
    "4\n",
    "\n",
    "5\n",
    "\n",
    "12\n",
    "\n",
    "12\n",
    "\n",
    "2\n",
    "\n",
    "2\n",
    "\n",
    "2\n",
    "\n",
    "3\n"
   ]
  },
  {
   "cell_type": "code",
   "execution_count": 19,
   "id": "c07adc4d",
   "metadata": {},
   "outputs": [
    {
     "name": "stdout",
     "output_type": "stream",
     "text": [
      "1 3 4 2 1 5 9 4 5 1 2 3 4 6 5 1 2 1 5 6 \n",
      "9 3 3 6 6 2 2 2 4 4 4 5 5 5 5 1 1 1 1 1\n"
     ]
    }
   ],
   "source": [
    "import sys\n",
    "\n",
    "input_from_question = input() # Get input from user\n",
    "\n",
    "def solution(input_from_question):\n",
    "    # Split the input into separate lines and convert to integer list\n",
    "    input_list = list(map(int, input_from_question.split()))\n",
    "\n",
    "    # Count the frequency of each element\n",
    "    freq_dict = {}\n",
    "    for elem in input_list:\n",
    "        if elem in freq_dict:\n",
    "            freq_dict[elem] += 1\n",
    "        else:\n",
    "            freq_dict[elem] = 1\n",
    "\n",
    "    # Sort the elements by frequency and then by value\n",
    "    sorted_list = sorted(input_list, key=lambda x: (freq_dict[x], x))\n",
    "\n",
    "    # Return the sorted list as a string\n",
    "    return ' '.join(map(str, sorted_list))\n",
    "\n",
    "print(solution(input_from_question))\n"
   ]
  },
  {
   "cell_type": "code",
   "execution_count": null,
   "id": "efab8041",
   "metadata": {},
   "outputs": [],
   "source": []
  }
 ],
 "metadata": {
  "kernelspec": {
   "display_name": "Python 3 (ipykernel)",
   "language": "python",
   "name": "python3"
  },
  "language_info": {
   "codemirror_mode": {
    "name": "ipython",
    "version": 3
   },
   "file_extension": ".py",
   "mimetype": "text/x-python",
   "name": "python",
   "nbconvert_exporter": "python",
   "pygments_lexer": "ipython3",
   "version": "3.9.13"
  }
 },
 "nbformat": 4,
 "nbformat_minor": 5
}
